{
 "cells": [
  {
   "cell_type": "code",
   "execution_count": 1,
   "id": "8e8e4fd5",
   "metadata": {},
   "outputs": [],
   "source": [
    "#IRIS CLASSIFICATION "
   ]
  },
  {
   "cell_type": "code",
   "execution_count": 2,
   "id": "2b58b11c",
   "metadata": {},
   "outputs": [],
   "source": [
    "import numpy as np\n",
    "import pandas as pd\n",
    "import matplotlib.pyplot as plt\n",
    "import seaborn as sns \n",
    "from sklearn.model_selection import train_test_split\n",
    "from sklearn.linear_model import LinearRegression\n",
    "from sklearn.metrics import accuracy_score"
   ]
  },
  {
   "cell_type": "code",
   "execution_count": 3,
   "id": "ed3f4585",
   "metadata": {},
   "outputs": [],
   "source": [
    "df=pd.read_csv('C:/Users/priya/Desktop/Iris.csv')"
   ]
  },
  {
   "cell_type": "code",
   "execution_count": 4,
   "id": "411f6445",
   "metadata": {},
   "outputs": [],
   "source": [
    "df.head()"
   ]
  },
  {
   "cell_type": "code",
   "execution_count": 5,
   "id": "29edaa90",
   "metadata": {},
   "outputs": [],
   "source": [
    "df.tail()"
   ]
  },
  {
   "cell_type": "code",
   "execution_count": 6,
   "id": "a262d8af",
   "metadata": {},
   "outputs": [],
   "source": [
    "df.info()"
   ]
  },
  {
   "cell_type": "code",
   "execution_count": 7,
   "id": "97aec943",
   "metadata": {},
   "outputs": [],
   "source": [
    "df.shape"
   ]
  },
  {
   "cell_type": "code",
   "execution_count": 8,
   "id": "d86b105f",
   "metadata": {},
   "outputs": [],
   "source": [
    "df.size"
   ]
  },
  {
   "cell_type": "code",
   "execution_count": 9,
   "id": "5d0217ea",
   "metadata": {},
   "outputs": [],
   "source": [
    "df.head(10)"
   ]
  },
  {
   "cell_type": "code",
   "execution_count": 10,
   "id": "2c09c3b5",
   "metadata": {},
   "outputs": [],
   "source": [
    "df.isnull()"
   ]
  },
  {
   "cell_type": "code",
   "execution_count": 11,
   "id": "a1698758",
   "metadata": {},
   "outputs": [],
   "source": [
    "df.isnull().sum()"
   ]
  },
  {
   "cell_type": "code",
   "execution_count": 12,
   "id": "961e635f",
   "metadata": {},
   "outputs": [],
   "source": [
    "df.dtypes"
   ]
  },
  {
   "cell_type": "code",
   "execution_count": 13,
   "id": "bfe74b84",
   "metadata": {},
   "outputs": [],
   "source": [
    "data=df.groupby('Species')"
   ]
  },
  {
   "cell_type": "code",
   "execution_count": 14,
   "id": "a8d0ef6e",
   "metadata": {},
   "outputs": [],
   "source": [
    "data.head()"
   ]
  },
  {
   "cell_type": "code",
   "execution_count": 15,
   "id": "3ccbf644",
   "metadata": {},
   "outputs": [],
   "source": [
    "df['Species'].unique()"
   ]
  },
  {
   "cell_type": "code",
   "execution_count": 16,
   "id": "cab9a397",
   "metadata": {},
   "outputs": [],
   "source": [
    "#ploting data"
   ]
  },
  {
   "cell_type": "code",
   "execution_count": 17,
   "id": "a5ae5858",
   "metadata": {},
   "outputs": [],
   "source": [
    "plt.boxplot(df['SepalLengthCm'])"
   ]
  },
  {
   "cell_type": "code",
   "execution_count": 18,
   "id": "da51e5ff",
   "metadata": {},
   "outputs": [],
   "source": [
    "plt.boxplot(df['SepalWidthCm'])"
   ]
  },
  {
   "cell_type": "code",
   "execution_count": 19,
   "id": "b7d29ea6",
   "metadata": {},
   "outputs": [],
   "source": [
    "plt.boxplot(df['PetalLengthCm'])"
   ]
  },
  {
   "cell_type": "code",
   "execution_count": 20,
   "id": "0b93acaf",
   "metadata": {},
   "outputs": [],
   "source": [
    "plt.boxplot(df['PetalWidthCm'])"
   ]
  },
  {
   "cell_type": "code",
   "execution_count": 21,
   "id": "41ae8572",
   "metadata": {},
   "outputs": [],
   "source": [
    "sns.heatmap(df.corr())"
   ]
  },
  {
   "cell_type": "code",
   "execution_count": 22,
   "id": "949c7852",
   "metadata": {},
   "outputs": [],
   "source": [
    "#data preparation"
   ]
  },
  {
   "cell_type": "code",
   "execution_count": 23,
   "id": "e04902b2",
   "metadata": {},
   "outputs": [],
   "source": [
    "df.drop('Id',axis=1,inplace=True)"
   ]
  },
  {
   "cell_type": "code",
   "execution_count": 24,
   "id": "c594162f",
   "metadata": {},
   "outputs": [],
   "source": [
    "sp={'Iris-setosa':1, 'Iris-versicolor':2, 'Iris-virginica':3}"
   ]
  },
  {
   "cell_type": "code",
   "execution_count": 25,
   "id": "756a6972",
   "metadata": {},
   "outputs": [],
   "source": [
    "df.Species=[sp[i] for i in df.Species]"
   ]
  },
  {
   "cell_type": "code",
   "execution_count": 26,
   "id": "eb805ed5",
   "metadata": {},
   "outputs": [],
   "source": [
    "df"
   ]
  },
  {
   "cell_type": "code",
   "execution_count": 27,
   "id": "60df6486",
   "metadata": {},
   "outputs": [],
   "source": [
    "#splitting independent data SepalLengthCm\tSepalWidthCm\tPetalLengthCm\tPetalWidthCm\n",
    "a=df.iloc[:0:4]"
   ]
  },
  {
   "cell_type": "code",
   "execution_count": 28,
   "id": "120cb442",
   "metadata": {},
   "outputs": [],
   "source": [
    "a"
   ]
  },
  {
   "cell_type": "code",
   "execution_count": 29,
   "id": "0af34741",
   "metadata": {},
   "outputs": [],
   "source": [
    "#dependent on x\n",
    "b=df.iloc[:,4]"
   ]
  },
  {
   "cell_type": "code",
   "execution_count": 30,
   "id": "e386e8a2",
   "metadata": {},
   "outputs": [],
   "source": [
    "b"
   ]
  },
  {
   "cell_type": "code",
   "execution_count": 31,
   "id": "a28693e3",
   "metadata": {},
   "outputs": [],
   "source": [
    "#split data"
   ]
  },
  {
   "cell_type": "code",
   "execution_count": 32,
   "id": "a3ac6e1b",
   "metadata": {},
   "outputs": [],
   "source": [
    "a_train,a_test,b_train,b_test=train_test_split(a,b,test_size=0.33,random_state=42)"
   ]
  },
  {
   "cell_type": "code",
   "execution_count": 33,
   "id": "d6c1adc6",
   "metadata": {},
   "outputs": [],
   "source": [
    "#train data"
   ]
  },
  {
   "cell_type": "code",
   "execution_count": 34,
   "id": "92fe1e1b",
   "metadata": {},
   "outputs": [],
   "source": [
    "model=LinearRegression()"
   ]
  },
  {
   "cell_type": "code",
   "execution_count": 35,
   "id": "c7a6ea77",
   "metadata": {},
   "outputs": [],
   "source": [
    "model.fit(a,b)"
   ]
  },
  {
   "cell_type": "code",
   "execution_count": 36,
   "id": "29ad1373",
   "metadata": {},
   "outputs": [],
   "source": [
    "model.score(a,b)"
   ]
  },
  {
   "cell_type": "code",
   "execution_count": 37,
   "id": "76dd4f35",
   "metadata": {},
   "outputs": [],
   "source": [
    "model.coef_"
   ]
  },
  {
   "cell_type": "code",
   "execution_count": 38,
   "id": "8c3f33f6",
   "metadata": {},
   "outputs": [],
   "source": [
    "model.intercept_"
   ]
  },
  {
   "cell_type": "code",
   "execution_count": 39,
   "id": "a03bffd5",
   "metadata": {},
   "outputs": [],
   "source": [
    "#predicting\n",
    "b_pred=model.predict(a_test)"
   ]
  },
  {
   "cell_type": "code",
   "execution_count": 40,
   "id": "d395fc67",
   "metadata": {},
   "outputs": [],
   "source": [
    "#evaluation"
   ]
  },
  {
   "cell_type": "code",
   "execution_count": 41,
   "id": "ac687457",
   "metadata": {},
   "outputs": [],
   "source": [
    "print(\"mean squared error: %.2f\" %np.mean((b_pred - b_test)**2))"
   ]
  },
  {
   "cell_type": "code",
   "execution_count": null,
   "id": "50186a30",
   "metadata": {},
   "outputs": [],
   "source": []
  },
  {
   "cell_type": "code",
   "execution_count": null,
   "id": "ed4da636",
   "metadata": {},
   "outputs": [],
   "source": []
  },
  {
   "cell_type": "code",
   "execution_count": null,
   "id": "a45787fc",
   "metadata": {},
   "outputs": [],
   "source": []
  },
  {
   "cell_type": "code",
   "execution_count": null,
   "id": "8fcae4ce",
   "metadata": {},
   "outputs": [],
   "source": []
  },
  {
   "cell_type": "code",
   "execution_count": null,
   "id": "2a2b9f8e",
   "metadata": {},
   "outputs": [],
   "source": []
  },
  {
   "cell_type": "code",
   "execution_count": null,
   "id": "23633166",
   "metadata": {},
   "outputs": [],
   "source": []
  },
  {
   "cell_type": "code",
   "execution_count": null,
   "id": "1201c284",
   "metadata": {},
   "outputs": [],
   "source": []
  }
 ],
 "metadata": {
  "kernelspec": {
   "display_name": "Python 3 (ipykernel)",
   "language": "python",
   "name": "python3"
  },
  "language_info": {
   "codemirror_mode": {
    "name": "ipython",
    "version": 3
   },
   "file_extension": ".py",
   "mimetype": "text/x-python",
   "name": "python",
   "nbconvert_exporter": "python",
   "pygments_lexer": "ipython3",
   "version": "3.11.3"
  }
 },
 "nbformat": 4,
 "nbformat_minor": 5
}
